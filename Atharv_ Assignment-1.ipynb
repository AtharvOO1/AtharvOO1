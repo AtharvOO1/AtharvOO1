{
 "cells": [
  {
   "cell_type": "raw",
   "id": "8d33a015",
   "metadata": {},
   "source": [
    "1. In the below elements which of them are values or an expression? eg:- values can be\n",
    "integer or string and expressions will be mathematical operators.\n",
    "\n",
    "Ans: \n",
    "\n",
    "* is an Expression\n",
    "'hello' is a Value\n",
    "-87.81 is a Value\n",
    "- is an Expression\n",
    "/ is an Expression\n",
    "+ is an Expression\n",
    "6 is a value"
   ]
  },
  {
   "cell_type": "raw",
   "id": "c710edbf",
   "metadata": {},
   "source": [
    "2. What is the difference between string and variable?\n",
    "\n",
    "Ans:\n",
    "\n",
    "String is a sequence of alphabets or numbers or special charaters enclosed in ' ' or \" \" or ''' ''' (For Multiline)\n",
    "Eg: s= \"Atharv\" , s1= \"Atharv1\" , s2= \"I am learning Python\"\n",
    "\n",
    "Variable is a location in the memory used to store any value i.e. A= 10 (which is an integer), B= 9.5 (which is a float), C= \"AI\" (which is a string)"
   ]
  },
  {
   "cell_type": "raw",
   "id": "2ed61e2d",
   "metadata": {},
   "source": [
    "3. Describe three different data types.\n",
    "\n",
    "Ans: \n",
    "\n",
    "The three different data types are:\n",
    "\n",
    "1. List: The list is represented by [] and the elements are separated by commas. The list is ordered in sequence of index. It can contain different types of elements like Int, String, Float. List can be modified.\n",
    "eg: List=[2,7.7, \"AI\"] where 2 is at 0 index, 7.7 is at 1 index, \"AI\" is at 2 index.\n",
    "\n",
    "2. Tuple: Tuple is represented by () and separated by commas. Tuple is also ordered in sequence of index. A tuple can't be modified.  \n",
    "eg: T= (2,7.7, \"AI\")\n",
    "\n",
    "3. Dictionaries: It is represented by {} and are unordered pair of Key and Values.\n",
    "eg: d= {1: \"Atharv\", 2: \"Dixit\"} where 1&2 are Keys and Atharv & Dixit are values."
   ]
  },
  {
   "cell_type": "raw",
   "id": "27dbe98d",
   "metadata": {},
   "source": [
    "4. What is an expression made up of? What do all expressions do?\n",
    "\n",
    "Ans:\n",
    "\n",
    "An expression is made up of operators and operands that gives a single outcome when the operation is performed.\n",
    "eg: [2+4] is an expression, where 2&4 are operands and + is an operator.\n",
    "    \n",
    "    \n",
    "    "
   ]
  },
  {
   "cell_type": "raw",
   "id": "445cd40f",
   "metadata": {},
   "source": [
    "5. This assignment statements, like spam = 10. What is the difference between an\n",
    "expression and a statement?\n",
    "\n",
    "Ans:\n",
    "\n",
    "An expression is made up of operators and operands that gives a single outcome when the operation is performed while a statement is a set of instructions that an interpreter can execute."
   ]
  },
  {
   "cell_type": "raw",
   "id": "40e09cf1",
   "metadata": {},
   "source": [
    "6. After running the following code, what does the variable bacon contain?\n",
    "\n",
    "bacon = 22\n",
    "bacon + 1\n",
    "\n",
    "Ans:\n",
    "\n",
    "After performing, bacon+1 it will give 23 but the value of bacon will remain 22.\n"
   ]
  },
  {
   "cell_type": "raw",
   "id": "991147c9",
   "metadata": {},
   "source": [
    "7. What should the values of the following two terms be?\n",
    "'spam'+ 'spamspam'\n",
    "'spam'*3\n",
    "\n",
    "Ans:\n",
    "\n",
    "'spam'+ 'spamspam' will give 'spamspamspam' (Additon of strings)\n",
    "'spam'*3 will also give 'spamspamspam'"
   ]
  },
  {
   "cell_type": "raw",
   "id": "572c7a21",
   "metadata": {},
   "source": [
    "8. Why is eggs a valid variable name while 100 is invalid?\n",
    "\n",
    "Ans:\n",
    "\n",
    "Eggs is a valid variable name while 100 isn't because Variable name can't be an Integer."
   ]
  },
  {
   "cell_type": "raw",
   "id": "3e829f33",
   "metadata": {},
   "source": [
    "9. What three functions can be used to get the integer, floating-point number, or string\n",
    "version of a value?\n",
    "\n",
    "Ans:\n",
    "\n",
    "Integer: int()\n",
    "Float: float()\n",
    "String: str()"
   ]
  },
  {
   "cell_type": "raw",
   "id": "7a567757",
   "metadata": {},
   "source": [
    "10. Why does this expression cause an error? How can you fix it?\n",
    "'I have eaten' + 99 + 'burritos.'\n",
    "\n",
    "Ans:\n",
    "\n",
    "This expression causes an error as here we are trying to add integer with strings. This can be fixed by converting the integer to a string.\n",
    "\n",
    "'I have eaten'+ str(99) + 'burritos'"
   ]
  }
 ],
 "metadata": {
  "kernelspec": {
   "display_name": "Python 3 (ipykernel)",
   "language": "python",
   "name": "python3"
  },
  "language_info": {
   "codemirror_mode": {
    "name": "ipython",
    "version": 3
   },
   "file_extension": ".py",
   "mimetype": "text/x-python",
   "name": "python",
   "nbconvert_exporter": "python",
   "pygments_lexer": "ipython3",
   "version": "3.9.7"
  }
 },
 "nbformat": 4,
 "nbformat_minor": 5
}
